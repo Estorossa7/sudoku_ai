{
 "cells": [
  {
   "cell_type": "code",
   "execution_count": 1,
   "metadata": {},
   "outputs": [],
   "source": [
    "import pandas as pd\n"
   ]
  },
  {
   "cell_type": "code",
   "execution_count": 2,
   "metadata": {},
   "outputs": [
    {
     "data": {
      "text/plain": [
       "'\\nsplits\\n\\n0:5000000       - 5m\\n5000000:6000000 - 1m_1\\n6000000:7000000 - 1m_2\\n7000000:7500000 - 500k_1\\n7500000:8000000 - 500k_2\\n8000000:8100000 - 100k_1\\n8100000:8200000 - 100k_2\\n8200000:8250000 - 50k_1\\n8250000:8300000 - 50k_2\\n8300000:8310000 - 10k_1\\n8310000:8320000 - 10k_2\\n8320000:        - 680k\\n\\n\\n'"
      ]
     },
     "execution_count": 2,
     "metadata": {},
     "output_type": "execute_result"
    }
   ],
   "source": [
    "\"\"\"\n",
    "splits\n",
    "\n",
    "0:5000000       - 5m\n",
    "5000000:6000000 - 1m_1\n",
    "6000000:7000000 - 1m_2\n",
    "7000000:7500000 - 500k_1\n",
    "7500000:8000000 - 500k_2\n",
    "8000000:8100000 - 100k_1\n",
    "8100000:8200000 - 100k_2\n",
    "8200000:8250000 - 50k_1\n",
    "8250000:8300000 - 50k_2\n",
    "8300000:8310000 - 10k_1\n",
    "8310000:8320000 - 10k_2\n",
    "8320000:        - 680k\n",
    "\n",
    "\n",
    "\"\"\""
   ]
  },
  {
   "cell_type": "code",
   "execution_count": 3,
   "metadata": {},
   "outputs": [],
   "source": [
    "main = 'F:\\\\sudoku_ai\\\\dataset\\\\sudoku_9m.csv'\n",
    "\n",
    "sudoku_5m   = 'F:\\\\sudoku_ai\\\\dataset\\\\sudoku_5m.csv'\n",
    "sudoku_1m   = 'F:\\\\sudoku_ai\\\\dataset\\\\sudoku_1m_1.csv'\n",
    "sudoku_2m   = 'F:\\\\sudoku_ai\\\\dataset\\\\sudoku_1m_2.csv'\n",
    "sudoku_500k = 'F:\\\\sudoku_ai\\\\dataset\\\\sudoku_500k_1.csv'\n",
    "sudoku_501k = 'F:\\\\sudoku_ai\\\\dataset\\\\sudoku_500k_2.csv'\n",
    "sudoku_100k = 'F:\\\\sudoku_ai\\\\dataset\\\\sudoku_100k_1.csv'\n",
    "sudoku_101k = 'F:\\\\sudoku_ai\\\\dataset\\\\sudoku_100k_2.csv'\n",
    "sudoku_50k  = 'F:\\\\sudoku_ai\\\\dataset\\\\sudoku_50k_1.csv'\n",
    "sudoku_51k  = 'F:\\\\sudoku_ai\\\\dataset\\\\sudoku_50k_2.csv'\n",
    "sudoku_10k  = 'F:\\\\sudoku_ai\\\\dataset\\\\sudoku_10k_1.csv'\n",
    "sudoku_11k  = 'F:\\\\sudoku_ai\\\\dataset\\\\sudoku_10k_2.csv'\n",
    "sudoku_680k = 'F:\\\\sudoku_ai\\\\dataset\\\\sudoku_680k.csv'\n"
   ]
  },
  {
   "cell_type": "code",
   "execution_count": 4,
   "metadata": {},
   "outputs": [],
   "source": [
    "df = pd.read_csv(main,skiprows=1)\n"
   ]
  },
  {
   "cell_type": "code",
   "execution_count": 5,
   "metadata": {},
   "outputs": [],
   "source": [
    "df1 =  df[0:5000000      ]\n",
    "df2 =  df[5000000:6000000]\n",
    "df3 =  df[6000000:7000000]\n",
    "df4 =  df[7000000:7500000]\n",
    "df5 =  df[7500000:8000000]\n",
    "df6 =  df[8000000:8100000]\n",
    "df7 =  df[8100000:8200000]\n",
    "df8 =  df[8200000:8250000]\n",
    "df9 =  df[8250000:8300000]\n",
    "df10 = df[8300000:8310000]\n",
    "df11 = df[8310000:8320000]\n",
    "df12 = df[8320000:       ]\n"
   ]
  },
  {
   "cell_type": "code",
   "execution_count": 6,
   "metadata": {},
   "outputs": [],
   "source": [
    "df1.to_csv(sudoku_5m  ,index=False) \n",
    "df2.to_csv(sudoku_1m  ,index=False) \n",
    "df3.to_csv(sudoku_2m  ,index=False) \n",
    "df4.to_csv(sudoku_500k,index=False) \n",
    "df5.to_csv(sudoku_501k,index=False) \n",
    "df6.to_csv(sudoku_100k,index=False) \n",
    "df7.to_csv(sudoku_101k,index=False) \n",
    "df8.to_csv(sudoku_50k ,index=False) \n",
    "df9.to_csv(sudoku_51k ,index=False) \n",
    "df10.to_csv(sudoku_10k,index=False )\n",
    "df11.to_csv(sudoku_11k,index=False )\n",
    "df12.to_csv(sudoku_680k,index=False)"
   ]
  }
 ],
 "metadata": {
  "kernelspec": {
   "display_name": ".venv",
   "language": "python",
   "name": "python3"
  },
  "language_info": {
   "codemirror_mode": {
    "name": "ipython",
    "version": 3
   },
   "file_extension": ".py",
   "mimetype": "text/x-python",
   "name": "python",
   "nbconvert_exporter": "python",
   "pygments_lexer": "ipython3",
   "version": "3.12.2"
  }
 },
 "nbformat": 4,
 "nbformat_minor": 2
}
